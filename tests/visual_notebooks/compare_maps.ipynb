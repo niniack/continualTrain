{
 "cells": [
  {
   "cell_type": "code",
   "execution_count": null,
   "metadata": {},
   "outputs": [],
   "source": [
    "%matplotlib inline"
   ]
  },
  {
   "cell_type": "code",
   "execution_count": null,
   "metadata": {},
   "outputs": [],
   "source": [
    "from pathlib import Path\n",
    "\n",
    "import matplotlib.pyplot as plt\n",
    "import numpy as np\n",
    "import torch\n",
    "import torchvision.transforms.functional as F\n",
    "from avalanche.benchmarks.utils.data_loader import TaskBalancedDataLoader\n",
    "from avalanche.evaluation.metrics import Accuracy, accuracy_metrics, loss_metrics\n",
    "from avalanche.logging import InteractiveLogger, WandBLogger\n",
    "from avalanche.training import Naive\n",
    "from avalanche.training.plugins import EarlyStoppingPlugin, EvaluationPlugin\n",
    "from continualUtils.benchmarks.clickme import SplitClickMe\n",
    "from continualUtils.benchmarks.datasets.clickme import make_clickme_dataset\n",
    "from continualUtils.evaluation.saliency_map_metrics import (\n",
    "    rescale_batch,\n",
    "    show_cam_on_image,\n",
    ")\n",
    "from continualUtils.explain.tools import compute_saliency_map\n",
    "from continualUtils.explain.tools.harmonizer_loss import compute_score\n",
    "from continualUtils.models import (\n",
    "    CustomResNet18,\n",
    "    CustomResNet50,\n",
    "    PretrainedResNet18,\n",
    "    PretrainedResNet34,\n",
    "    PretrainedResNet50,\n",
    ")\n",
    "from avalanche.models import DynamicModule, MultiHeadClassifier, MultiTaskModule\n",
    "\n",
    "from torch.nn import CrossEntropyLoss\n",
    "from torch.optim import SGD, Adam\n",
    "from torchvision.utils import make_grid\n",
    "\n",
    "%load_ext autoreload\n",
    "%autoreload 2"
   ]
  },
  {
   "cell_type": "code",
   "execution_count": null,
   "metadata": {},
   "outputs": [],
   "source": [
    "class MakeCompatible(torch.nn.Module):\n",
    "    def __init__(self, model, task):\n",
    "        super().__init__()\n",
    "        self.model = model\n",
    "        self.num_classes_per_head = getattr(self.model, 'num_classes_per_head', 1000)\n",
    "        self.task = task\n",
    "\n",
    "    # for continualUtils\n",
    "    def forward(self, x, task=None):\n",
    "        # If task is not provided, use self.task\n",
    "        task = task if task is not None else self.task\n",
    "\n",
    "        if isinstance(self.model, MultiTaskModule):\n",
    "            return self.model(x, task)\n",
    "        else:\n",
    "            return self.model(x)"
   ]
  },
  {
   "cell_type": "code",
   "execution_count": null,
   "metadata": {},
   "outputs": [],
   "source": [
    "def show_grid(imgs, ground_truth=None):\n",
    "    if not isinstance(imgs, list):\n",
    "        imgs = [imgs]\n",
    "    if ground_truth is not None:\n",
    "        imgs.append(ground_truth)\n",
    "\n",
    "    fig, axs = plt.subplots(ncols=len(imgs), figsize=(15, 10), squeeze=False)\n",
    "    fig.subplots_adjust(wspace=0.005)\n",
    "    for i, img in enumerate(imgs):\n",
    "        axs[0, i].imshow(np.asarray(img))\n",
    "        axs[0, i].set(xticklabels=[], yticklabels=[], xticks=[], yticks=[])\n",
    "        if i == len(imgs) - 1 and ground_truth is not None:\n",
    "            axs[0, i].set_title(\"Ground Truth\")"
   ]
  },
  {
   "cell_type": "code",
   "execution_count": null,
   "metadata": {},
   "outputs": [],
   "source": [
    "device = torch.device(\"cuda\") if torch.cuda.is_available() else torch.device(\"cpu\")"
   ]
  },
  {
   "cell_type": "code",
   "execution_count": null,
   "metadata": {},
   "outputs": [],
   "source": [
    "EXPERIENCES = 20  # Number of experiences in the dataset\n",
    "NUM_CLASSES = 1000  # Total number of classes"
   ]
  },
  {
   "cell_type": "code",
   "execution_count": null,
   "metadata": {},
   "outputs": [],
   "source": [
    "TASK = 0"
   ]
  },
  {
   "cell_type": "code",
   "execution_count": null,
   "metadata": {},
   "outputs": [],
   "source": [
    "split_clickme = SplitClickMe(\n",
    "    n_experiences=EXPERIENCES,\n",
    "    root=\"/mnt/datasets/clickme\",\n",
    "    seed=79,\n",
    "    dummy=False,\n",
    "    include_imagenet=False,\n",
    "    return_task_id=True,\n",
    "    shuffle=False,\n",
    "    class_ids_from_zero_in_each_exp=False,\n",
    "    fixed_class_order=list(range(0, NUM_CLASSES)),\n",
    ")"
   ]
  },
  {
   "cell_type": "code",
   "execution_count": null,
   "metadata": {},
   "outputs": [],
   "source": [
    "NUM_CLASSES_PER_HEAD = NUM_CLASSES // EXPERIENCES  # Classes per head\n",
    "MULTIHEAD = True\n",
    "epoch = 50\n",
    "run = \"RLfs\""
   ]
  },
  {
   "cell_type": "code",
   "execution_count": null,
   "metadata": {},
   "outputs": [],
   "source": [
    "test_set = split_clickme.test_stream[TASK].dataset\n",
    "dl = TaskBalancedDataLoader(\n",
    "    test_set, oversample_small_groups=False, batch_size=8, shuffle=True\n",
    ")"
   ]
  },
  {
   "cell_type": "code",
   "execution_count": null,
   "metadata": {},
   "outputs": [],
   "source": [
    "my_model = CustomResNet50(\n",
    "    device=device,\n",
    "    num_classes_total=NUM_CLASSES,\n",
    "    num_classes_per_head=NUM_CLASSES_PER_HEAD if MULTIHEAD else None,\n",
    "    output_hidden=False,\n",
    "    multihead=MULTIHEAD,\n",
    "    seed=0,\n",
    "    patch_batch_norm=True,\n",
    ")\n",
    "\n",
    "my_model.load_weights(\n",
    "    f\"/workspaces/continualUtils/model_saves/Adam_Harmonizer/{run}/experience_0_epoch_{epoch}\"\n",
    ")\n",
    "my_model.eval()\n",
    "my_model = MakeCompatible(my_model, task=TASK)\n",
    "my_accuracy = Accuracy()"
   ]
  },
  {
   "cell_type": "code",
   "execution_count": null,
   "metadata": {},
   "outputs": [],
   "source": [
    "harmonized_model = torch.load(\"/workspaces/continualUtils/model_saves/resnet50v2_harmonized.pt\").to(device)\n",
    "harmonized_model = MakeCompatible(harmonized_model, task=TASK)\n",
    "harmonized_acc = Accuracy()"
   ]
  },
  {
   "cell_type": "code",
   "execution_count": null,
   "metadata": {},
   "outputs": [],
   "source": [
    "pretrained_model = PretrainedResNet50(\n",
    "    device=device,\n",
    "    output_hidden=False,\n",
    "    multihead=False,\n",
    "    seed=0,\n",
    "    patch_batch_norm=False,\n",
    ")\n",
    "pretrained_accuracy = Accuracy()"
   ]
  },
  {
   "cell_type": "code",
   "execution_count": null,
   "metadata": {},
   "outputs": [],
   "source": [
    "# for batch in dl:\n",
    "#     image, label, heatmap, token, task = batch\n",
    "#     image = image.to(device)\n",
    "\n",
    "#     # My model\n",
    "#     rawout = my_model(image, task)\n",
    "#     out = torch.argmax(rawout, dim=1)\n",
    "#     my_accuracy.update(out.cpu(), label)\n",
    "\n",
    "#     # Harmonized\n",
    "#     rawout = harmonized_model(image, task)\n",
    "#     out = torch.argmax(rawout, dim=1)\n",
    "#     harmonized_acc.update(out.cpu(), label)\n",
    "\n",
    "#     # Pretrained\n",
    "#     rawout = pretrained_model(image, task)\n",
    "#     out = torch.argmax(rawout, dim=1)\n",
    "#     pretrained_accuracy.update(out.cpu(), label)\n",
    "\n",
    "# print(\"My Accuracy:\", my_accuracy.result())\n",
    "# print(\"Harmonized Accuracy:\", harmonized_acc.result())\n",
    "# print(\"Pretrained Accuracy:\", pretrained_accuracy.result())\n"
   ]
  },
  {
   "cell_type": "code",
   "execution_count": null,
   "metadata": {},
   "outputs": [],
   "source": [
    "test_set = split_clickme.val_stream[0].dataset\n",
    "dl = TaskBalancedDataLoader(\n",
    "    test_set, oversample_small_groups=True, batch_size=8, shuffle=True\n",
    ")"
   ]
  },
  {
   "cell_type": "code",
   "execution_count": null,
   "metadata": {},
   "outputs": [],
   "source": [
    "images, labels, heatmaps, tokens, tasks = next(iter(dl))"
   ]
  },
  {
   "cell_type": "code",
   "execution_count": null,
   "metadata": {},
   "outputs": [],
   "source": [
    "model = my_model"
   ]
  },
  {
   "cell_type": "code",
   "execution_count": null,
   "metadata": {},
   "outputs": [],
   "source": [
    "inputs = images.to(device).requires_grad_(True)\n",
    "\n",
    "if labels.shape[-1] is not model.num_classes_per_head:\n",
    "    targets = torch.nn.functional.one_hot(labels, model.num_classes_per_head).to(\n",
    "        device\n",
    "    )\n",
    "else:\n",
    "    targets = labels.to(device)\n",
    "\n",
    "computed_maps = compute_saliency_map(\n",
    "    pure_function=compute_score,\n",
    "    model=model,\n",
    "    inputs=inputs,\n",
    "    tasks=tasks,\n",
    "    targets=targets,\n",
    ").detach()"
   ]
  },
  {
   "cell_type": "code",
   "execution_count": null,
   "metadata": {},
   "outputs": [],
   "source": [
    "torch.mean(computed_maps)"
   ]
  },
  {
   "cell_type": "code",
   "execution_count": null,
   "metadata": {},
   "outputs": [],
   "source": [
    "from captum.attr import Saliency\n",
    "\n",
    "saliency = Saliency(model)\n",
    "captum_maps = saliency.attribute(inputs, target=labels.to(device))\n",
    "captum_maps = torch.mean(captum_maps, dim=1, keepdim=True)"
   ]
  },
  {
   "cell_type": "code",
   "execution_count": null,
   "metadata": {},
   "outputs": [],
   "source": [
    " # Rescale the heatmaps between 0 and 1\n",
    "rescaled_images = rescale_batch(inputs.detach()).cpu()\n",
    "rescaled_maps = rescale_batch(computed_maps).cpu()\n",
    "rescaled_captum_maps = rescale_batch(captum_maps).cpu()\n",
    "rescaled_gt_maps = rescale_batch(heatmaps).cpu()\n",
    "\n",
    "# Overlay the heatmaps\n",
    "overlayed_images = show_cam_on_image(\n",
    "    rescaled_images, rescaled_maps, use_rgb=True\n",
    ")\n",
    "\n",
    "gt_overlayed_images = show_cam_on_image(\n",
    "    rescaled_images, rescaled_captum_maps, use_rgb=True\n",
    ")\n",
    "\n",
    "# Create grid from images\n",
    "grid = make_grid(\n",
    "    overlayed_images,\n",
    "    normalize=False,\n",
    "    nrow=2,\n",
    ")\n",
    "\n",
    "gt_grid = make_grid(\n",
    "    gt_overlayed_images,\n",
    "    normalize=False,\n",
    "    nrow=2,\n",
    ")\n",
    "\n",
    "# Permute for numpy format\n",
    "grid = grid.permute(1, 2, 0)\n",
    "gt_grid = gt_grid.permute(1, 2, 0)\n",
    "\n",
    "show_grid(grid, ground_truth=gt_grid)"
   ]
  },
  {
   "cell_type": "code",
   "execution_count": null,
   "metadata": {},
   "outputs": [],
   "source": []
  }
 ],
 "metadata": {
  "kernelspec": {
   "display_name": "venv",
   "language": "python",
   "name": "python3"
  },
  "language_info": {
   "codemirror_mode": {
    "name": "ipython",
    "version": 3
   },
   "file_extension": ".py",
   "mimetype": "text/x-python",
   "name": "python",
   "nbconvert_exporter": "python",
   "pygments_lexer": "ipython3",
   "version": "3.10.12"
  },
  "orig_nbformat": 4
 },
 "nbformat": 4,
 "nbformat_minor": 2
}
