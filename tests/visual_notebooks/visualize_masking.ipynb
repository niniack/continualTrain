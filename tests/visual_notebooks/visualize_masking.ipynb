{
 "cells": [
  {
   "cell_type": "code",
   "execution_count": 230,
   "metadata": {},
   "outputs": [
    {
     "name": "stdout",
     "output_type": "stream",
     "text": [
      "The autoreload extension is already loaded. To reload it, use:\n",
      "  %reload_ext autoreload\n"
     ]
    }
   ],
   "source": [
    "%load_ext autoreload\n",
    "%autoreload 2"
   ]
  },
  {
   "cell_type": "code",
   "execution_count": 231,
   "metadata": {},
   "outputs": [],
   "source": [
    "import sys\n",
    "import os\n",
    "cwd = os.getcwd()\n",
    "parent_directory = os.path.dirname(cwd)\n",
    "sys.path.append(parent_directory)\n",
    "import matplotlib.pyplot as plt"
   ]
  },
  {
   "cell_type": "code",
   "execution_count": 232,
   "metadata": {},
   "outputs": [],
   "source": [
    "from pathlib import Path\n",
    "from torchvision import transforms\n",
    "from avalanche.benchmarks.classic import SplitCIFAR10, SplitMNIST\n",
    "from continualUtils.models import PretrainedResNet18, SimpleMNISTCNN\n",
    "import torch\n",
    "from torch.utils.data import DataLoader\n",
    "from captum.attr import Saliency\n",
    "import numpy as np\n",
    "from torchvision import datasets, transforms\n"
   ]
  },
  {
   "cell_type": "code",
   "execution_count": 233,
   "metadata": {},
   "outputs": [],
   "source": [
    "class GetTransforms:\n",
    "    \"\"\"Returns a list of transformations when type as requested amongst train/test\n",
    "    Transforms('train') = list of transforms to apply on training data\n",
    "    Transforms('test') = list of transforms to apply on testing data\"\"\"\n",
    "\n",
    "    def __init__(self):\n",
    "        pass\n",
    "\n",
    "    def trainparams(self):\n",
    "        train_transformations = (\n",
    "            [  # resises the image so it can be perfect for our model.\n",
    "                # transforms.RandomCrop(32, padding=4, padding_mode=\"reflect\"),\n",
    "                # transforms.RandomHorizontalFlip(),\n",
    "                transforms.ToTensor(),\n",
    "                transforms.Normalize(\n",
    "                    (0.4914, 0.4822, 0.4465), (0.2023, 0.1994, 0.2010)\n",
    "                ),\n",
    "            ]\n",
    "        )\n",
    "\n",
    "        return train_transformations\n",
    "\n",
    "    def testparams(self):\n",
    "        test_transforms = [\n",
    "            transforms.ToTensor(),\n",
    "            transforms.Normalize((0.4914, 0.4822, 0.4465), (0.2023, 0.1994, 0.2010)),\n",
    "        ]\n",
    "        return test_transforms"
   ]
  },
  {
   "cell_type": "code",
   "execution_count": 234,
   "metadata": {},
   "outputs": [],
   "source": [
    "# transformations = GetTransforms()\n",
    "# train_transforms = transforms.Compose(transformations.trainparams())\n",
    "# test_transforms = transforms.Compose(transformations.testparams())\n",
    "\n",
    "# dataset_path = Path.joinpath(Path(\"/mnt/datasets/\"), \"cifar10\")\n",
    "# benchmark = SplitCIFAR10(\n",
    "#     n_experiences=1,\n",
    "#     dataset_root=dataset_path,\n",
    "#     # train_transform=train_transforms,\n",
    "#     # eval_transform=test_transforms,\n",
    "# )\n",
    "\n",
    "# dataset_path = Path.joinpath(Path(\"/mnt/datasets/\"), \"mnist\")\n",
    "# benchmark = SplitMNIST(\n",
    "#     n_experiences=1,\n",
    "#     dataset_root=dataset_path,\n",
    "# )\n",
    "\n",
    "# train_stream = benchmark.train_stream[0]"
   ]
  },
  {
   "cell_type": "code",
   "execution_count": 235,
   "metadata": {},
   "outputs": [],
   "source": [
    "transformations = GetTransforms()\n",
    "train_transforms = transforms.Compose(transformations.trainparams())\n",
    "test_transforms = transforms.Compose(transformations.testparams())\n",
    "dataset1 = datasets.CIFAR10('/mnt/datasets/cifar10/', train=True,\n",
    "                    transform=train_transforms)\n",
    "dataset2 = datasets.CIFAR10('/mnt/datasets/cifar10/', train=False,\n",
    "                    transform=test_transforms)\n",
    "trainloader = torch.utils.data.DataLoader(dataset1,batch_size=512, shuffle=False)\n",
    "testloader = torch.utils.data.DataLoader(dataset2, batch_size=1, shuffle=False)"
   ]
  },
  {
   "cell_type": "code",
   "execution_count": 236,
   "metadata": {},
   "outputs": [
    {
     "name": "stdout",
     "output_type": "stream",
     "text": [
      "Feature batch shape: torch.Size([512, 3, 32, 32])\n",
      "Labels batch shape: torch.Size([512])\n"
     ]
    }
   ],
   "source": [
    "# Display image and label.\n",
    "mb_x, mb_y= next(iter(trainloader))\n",
    "print(f\"Feature batch shape: {mb_x.size()}\")\n",
    "print(f\"Labels batch shape: {mb_y.size()}\")"
   ]
  },
  {
   "cell_type": "code",
   "execution_count": 237,
   "metadata": {},
   "outputs": [
    {
     "name": "stderr",
     "output_type": "stream",
     "text": [
      "Clipping input data to the valid range for imshow with RGB data ([0..1] for floats or [0..255] for integers).\n"
     ]
    },
    {
     "data": {
      "image/png": "[encoded data removed]",
      "text/plain": [
       "<Figure size 640x480 with 1 Axes>"
      ]
     },
     "metadata": {},
     "output_type": "display_data"
    },
    {
     "name": "stdout",
     "output_type": "stream",
     "text": [
      "Label: 6\n"
     ]
    }
   ],
   "source": [
    "og_img = mb_x[0].squeeze()\n",
    "label = mb_y[0]\n",
    "# plt.figure(figsize=(2,2))\n",
    "plt.imshow(og_img.T, cmap=\"gray\")\n",
    "plt.show()\n",
    "print(f\"Label: {label}\")"
   ]
  },
  {
   "cell_type": "code",
   "execution_count": 238,
   "metadata": {},
   "outputs": [],
   "source": [
    "device = torch.device(\"cpu\")\n",
    "model = PretrainedResNet18(device=device)\n",
    "# model = SimpleMNISTCNN(device=device, num_classes_per_task=10)"
   ]
  },
  {
   "cell_type": "markdown",
   "metadata": {},
   "source": [
    "#### Original implementation"
   ]
  },
  {
   "cell_type": "code",
   "execution_count": 239,
   "metadata": {},
   "outputs": [],
   "source": [
    "def get_SingleMask(percentage,fattr, remove_important=True,returnValues=False,Debug=False,numberOfFeatures=False):\n",
    "    if(numberOfFeatures):\n",
    "        k=percentage\n",
    "    else:\n",
    "        k = max(1, int(len(fattr)*len(fattr) * percentage))\n",
    "    if(Debug):\n",
    "        print(\"numberOfFeatures\", k, \"remove_important\",remove_important)\n",
    "    v, i = torch.topk(fattr.flatten(), k,largest=remove_important)\n",
    "    mask = torch.zeros_like(fattr.flatten(), dtype=torch.bool)\n",
    "    mask[i]=True\n",
    "    mask= mask.reshape(fattr.shape)\n",
    "\n",
    "    if(not returnValues):\n",
    "        return mask\n",
    "    else:\n",
    "        return mask,v"
   ]
  },
  {
   "cell_type": "code",
   "execution_count": 240,
   "metadata": {},
   "outputs": [],
   "source": [
    "def fill_SingleMask(input_image,mask,maskType=\"meanMask\",customMask=None):\n",
    "    channels = input_image.shape[0]\n",
    "    num_masks = mask.sum()\n",
    "    mask = mask.repeat(channels, 1, 1)\n",
    "\n",
    "    if(maskType==\"randomMask\"):\n",
    "        mean_input=[]\n",
    "        for c in range(channels):\n",
    "            min_channel=torch.min(input_image[c,:,:]).item()\n",
    "            max_channel=torch.max(input_image[c,:,:]).item()\n",
    "            randomMask = np.random.uniform(low=min_channel, high=max_channel,size=(num_masks,))\n",
    "            mean_input.append(randomMask)\n",
    "            input_image[c,mask[c]] = torch.FloatTensor(randomMask).to(device)\n",
    " \n",
    "    else:\n",
    "        if(maskType==\"customMask\"):\n",
    "            mean_input=torch.Tensor(np.random.normal(0,1,input_image.mean([1, 2]).shape)).to(device)+customMask\n",
    "\n",
    "        elif(maskType==\"constantMask\"):\n",
    "            if(channels==3):\n",
    "                mean_input=[customMask,customMask,customMask]\n",
    "                mean_input=torch.FloatTensor(mean_input).to(device)\n",
    "            else:\n",
    "                mean_input=[customMask]\n",
    "                mean_input=torch.FloatTensor(mean_input).to(device)\n",
    "        elif(maskType==\"trueMask\"):\n",
    "            mean_input = input_image[0,0,0]\n",
    "        else:\n",
    "            mean_input = input_image.mean([1, 2])\n",
    "    \n",
    "        input_image[mask] = mean_input.repeat(\n",
    "            num_masks).reshape(num_masks, -1).T.flatten()\n",
    "    return input_image"
   ]
  },
  {
   "cell_type": "markdown",
   "metadata": {},
   "source": [
    "#### new implementation"
   ]
  },
  {
   "cell_type": "code",
   "execution_count": 241,
   "metadata": {},
   "outputs": [],
   "source": [
    "def get_masks(num_masked_features, grads, noise=False):\n",
    "        # Get batch size and number of channels\n",
    "        batch, channels, *_ = grads.shape\n",
    "\n",
    "        # Reshape grads for multi-channel processing\n",
    "        grads_reshaped = grads.view(batch, channels, -1)\n",
    "\n",
    "        # Get topk indices for each channel\n",
    "        _, top_indices = torch.topk(\n",
    "            grads_reshaped, num_masked_features, dim=2, largest=noise\n",
    "        )\n",
    "\n",
    "        # Initialize flat mask for each channel\n",
    "        mask = torch.zeros_like(grads_reshaped, dtype=torch.bool)\n",
    "\n",
    "        # Fill mask for each channel\n",
    "        image_idx = torch.arange(batch).unsqueeze(1).unsqueeze(2)\n",
    "        channel_idx = torch.arange(channels).unsqueeze(0).unsqueeze(2)\n",
    "        mask[image_idx, channel_idx, top_indices] = True\n",
    "\n",
    "        # Reshape mask to original grad shape\n",
    "        mask = mask.reshape(grads.shape)\n",
    "\n",
    "        return mask\n",
    "\n",
    "def fill_masks(mb_x, mb_masks, noise=False):\n",
    "    # Get input shape\n",
    "    batch, channels, height, width = mb_x.shape\n",
    "\n",
    "    # Expand mask if needed\n",
    "    if mb_masks.shape[1] != channels:\n",
    "        mb_masks = mb_masks.expand(batch, channels, height, width)\n",
    "\n",
    "    if noise:\n",
    "        noise_values = torch.rand_like(mb_x) * (2e-1) - 1e-1\n",
    "        mb_x = torch.where(mb_masks, mb_x + noise_values, mb_x)\n",
    "    else:\n",
    "        # Get min and max for each channel, for each image\n",
    "        min_vals = (\n",
    "            mb_x.view(batch, channels, -1)\n",
    "            .min(dim=2)[0]\n",
    "            .unsqueeze(-1)\n",
    "            .unsqueeze(-1)\n",
    "        )\n",
    "        max_vals = (\n",
    "            mb_x.view(batch, channels, -1)\n",
    "            .max(dim=2)[0]\n",
    "            .unsqueeze(-1)\n",
    "            .unsqueeze(-1)\n",
    "        )\n",
    "\n",
    "        # Build random values within range\n",
    "        random_values = (\n",
    "            torch.rand_like(mb_x) * (max_vals - min_vals)\n",
    "        ) + min_vals\n",
    "\n",
    "        # Replace with random values where indices are True\n",
    "        mb_x = torch.where(\n",
    "            condition=mb_masks, input=random_values, other=mb_x\n",
    "        )\n",
    "\n",
    "    return mb_x"
   ]
  },
  {
   "cell_type": "code",
   "execution_count": 242,
   "metadata": {},
   "outputs": [],
   "source": [
    "features_dropped = 0.1\n",
    "\n",
    "batch, channels, height, width = mb_x.shape\n",
    "num_masked_features = int(features_dropped * height * width)\n",
    "\n",
    "# Build saliency map\n",
    "# Take mean\n",
    "saliency_engine = Saliency(model)\n",
    "grads = (\n",
    "    saliency_engine.attribute(mb_x, mb_y, abs=False)\n",
    "    # .mean(1)\n",
    "    .detach()\n",
    "    .to(dtype=torch.float)\n",
    ")\n",
    "\n",
    "# Clone images\n",
    "temp_mb_x = mb_x.detach().clone()\n",
    "\n",
    "##################################\n",
    "\n",
    "# single_masks = get_masks(num_masked_features, grads.unsqueeze(1))\n",
    "single_masks = get_masks(num_masked_features, grads)\n",
    "temp_mb_x = fill_masks(mb_x, single_masks)\n",
    "\n",
    "# for idx in range(batch):\n",
    "#     singleMask = get_SingleMask(features_dropped, grads[idx], remove_important=False, Debug=False)\n",
    "#     print(torch.equal(singleMask, single_masks[idx].squeeze(0)))\n",
    "#     replacement = fill_SingleMask(temp_mb_x[idx], singleMask, \"randomMask\")\n",
    "    \n",
    "##################################\n",
    "\n",
    "\n",
    "masked_input = temp_mb_x.view(mb_x.shape).detach()"
   ]
  },
  {
   "cell_type": "code",
   "execution_count": 243,
   "metadata": {},
   "outputs": [
    {
     "name": "stdout",
     "output_type": "stream",
     "text": [
      "9.9609375% different pixels\n"
     ]
    }
   ],
   "source": [
    "differences = mb_x != masked_input\n",
    "num_differences = differences.sum().item()\n",
    "total_elements = mb_x.numel()\n",
    "percentage_diff = (num_differences / total_elements) * 100\n",
    "print(f\"{percentage_diff}% different pixels\")"
   ]
  },
  {
   "cell_type": "code",
   "execution_count": 244,
   "metadata": {},
   "outputs": [
    {
     "name": "stderr",
     "output_type": "stream",
     "text": [
      "Clipping input data to the valid range for imshow with RGB data ([0..1] for floats or [0..255] for integers).\n"
     ]
    },
    {
     "data": {
      "image/png": "[encoded data removed]",
      "text/plain": [
       "<Figure size 640x480 with 1 Axes>"
      ]
     },
     "metadata": {},
     "output_type": "display_data"
    },
    {
     "name": "stdout",
     "output_type": "stream",
     "text": [
      "Label: 6\n"
     ]
    }
   ],
   "source": [
    "masked_img = masked_input[0].squeeze()\n",
    "label = mb_y[0]\n",
    "# plt.figure(figsize=(2,2))\n",
    "plt.imshow(masked_img.T, cmap=\"gray\")\n",
    "plt.show()\n",
    "print(f\"Label: {label}\")"
   ]
  },
  {
   "cell_type": "code",
   "execution_count": null,
   "metadata": {},
   "outputs": [],
   "source": []
  }
 ],
 "metadata": {
  "kernelspec": {
   "display_name": ".venv",
   "language": "python",
   "name": "python3"
  },
  "language_info": {
   "codemirror_mode": {
    "name": "ipython",
    "version": 3
   },
   "file_extension": ".py",
   "mimetype": "text/x-python",
   "name": "python",
   "nbconvert_exporter": "python",
   "pygments_lexer": "ipython3",
   "version": "3.10.12"
  }
 },
 "nbformat": 4,
 "nbformat_minor": 2
}
